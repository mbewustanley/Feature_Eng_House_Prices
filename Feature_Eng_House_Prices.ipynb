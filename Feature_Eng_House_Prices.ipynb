{
  "nbformat": 4,
  "nbformat_minor": 0,
  "metadata": {
    "colab": {
      "provenance": [],
      "mount_file_id": "13RcbsXfNVH8pa_8vDq4NsQqgRrlkng6j",
      "authorship_tag": "ABX9TyPb1ie0133tPsQPMb+ICAW0",
      "include_colab_link": true
    },
    "kernelspec": {
      "name": "python3",
      "display_name": "Python 3"
    },
    "language_info": {
      "name": "python"
    }
  },
  "cells": [
    {
      "cell_type": "markdown",
      "metadata": {
        "id": "view-in-github",
        "colab_type": "text"
      },
      "source": [
        "<a href=\"https://colab.research.google.com/github/mbewustanley/Feature_Eng_House_Prices/blob/main/Feature_Eng_House_Prices.ipynb\" target=\"_parent\"><img src=\"https://colab.research.google.com/assets/colab-badge.svg\" alt=\"Open In Colab\"/></a>"
      ]
    },
    {
      "cell_type": "code",
      "source": [
        "from google.colab import drive\n",
        "drive.mount('/content/drive')"
      ],
      "metadata": {
        "id": "ml7mGDDpCSSa",
        "colab": {
          "base_uri": "https://localhost:8080/"
        },
        "outputId": "191b08a5-5f48-4723-971c-03c0d77172ed"
      },
      "execution_count": 1,
      "outputs": [
        {
          "output_type": "stream",
          "name": "stdout",
          "text": [
            "Mounted at /content/drive\n"
          ]
        }
      ]
    },
    {
      "cell_type": "code",
      "execution_count": 26,
      "metadata": {
        "colab": {
          "base_uri": "https://localhost:8080/",
          "height": 35
        },
        "id": "wF_tII6K6I0F",
        "outputId": "ab39c551-1b0c-43b4-9bd7-b3c4a0bef090"
      },
      "outputs": [
        {
          "output_type": "execute_result",
          "data": {
            "text/plain": [
              "\"# Mute warnings\\nwarnings.filterwarnings('ignore')\""
            ],
            "application/vnd.google.colaboratory.intrinsic+json": {
              "type": "string"
            }
          },
          "metadata": {},
          "execution_count": 26
        }
      ],
      "source": [
        "\n",
        "\"\"\"import os\n",
        "import warnings\"\"\"\n",
        "#from pathlib import Path\n",
        "\n",
        "import matplotlib.pyplot as plt\n",
        "import numpy as np\n",
        "import pandas as pd\n",
        "import seaborn as sns\n",
        "from IPython.display import display\n",
        "from pandas.api.types import CategoricalDtype\n",
        "\n",
        "from category_encoders import MEstimateEncoder\n",
        "from sklearn.cluster import KMeans\n",
        "from sklearn.decomposition import PCA\n",
        "from sklearn.feature_selection import mutual_info_regression\n",
        "from sklearn.model_selection import KFold, cross_val_score\n",
        "from xgboost import XGBRegressor\n",
        "\n",
        "\n",
        "\"\"\"# Mute warnings\n",
        "warnings.filterwarnings('ignore')\"\"\"\n"
      ]
    },
    {
      "cell_type": "code",
      "metadata": {
        "id": "5271c0cf",
        "outputId": "915b5e7f-5456-46a6-8daa-49e47012ab53",
        "colab": {
          "base_uri": "https://localhost:8080/"
        }
      },
      "source": [
        "!pip install category_encoders"
      ],
      "execution_count": 25,
      "outputs": [
        {
          "output_type": "stream",
          "name": "stdout",
          "text": [
            "Collecting category_encoders\n",
            "  Downloading category_encoders-2.8.1-py3-none-any.whl.metadata (7.9 kB)\n",
            "Requirement already satisfied: numpy>=1.14.0 in /usr/local/lib/python3.12/dist-packages (from category_encoders) (2.0.2)\n",
            "Requirement already satisfied: pandas>=1.0.5 in /usr/local/lib/python3.12/dist-packages (from category_encoders) (2.2.2)\n",
            "Requirement already satisfied: patsy>=0.5.1 in /usr/local/lib/python3.12/dist-packages (from category_encoders) (1.0.2)\n",
            "Requirement already satisfied: scikit-learn>=1.6.0 in /usr/local/lib/python3.12/dist-packages (from category_encoders) (1.6.1)\n",
            "Requirement already satisfied: scipy>=1.0.0 in /usr/local/lib/python3.12/dist-packages (from category_encoders) (1.16.2)\n",
            "Requirement already satisfied: statsmodels>=0.9.0 in /usr/local/lib/python3.12/dist-packages (from category_encoders) (0.14.5)\n",
            "Requirement already satisfied: python-dateutil>=2.8.2 in /usr/local/lib/python3.12/dist-packages (from pandas>=1.0.5->category_encoders) (2.9.0.post0)\n",
            "Requirement already satisfied: pytz>=2020.1 in /usr/local/lib/python3.12/dist-packages (from pandas>=1.0.5->category_encoders) (2025.2)\n",
            "Requirement already satisfied: tzdata>=2022.7 in /usr/local/lib/python3.12/dist-packages (from pandas>=1.0.5->category_encoders) (2025.2)\n",
            "Requirement already satisfied: joblib>=1.2.0 in /usr/local/lib/python3.12/dist-packages (from scikit-learn>=1.6.0->category_encoders) (1.5.2)\n",
            "Requirement already satisfied: threadpoolctl>=3.1.0 in /usr/local/lib/python3.12/dist-packages (from scikit-learn>=1.6.0->category_encoders) (3.6.0)\n",
            "Requirement already satisfied: packaging>=21.3 in /usr/local/lib/python3.12/dist-packages (from statsmodels>=0.9.0->category_encoders) (25.0)\n",
            "Requirement already satisfied: six>=1.5 in /usr/local/lib/python3.12/dist-packages (from python-dateutil>=2.8.2->pandas>=1.0.5->category_encoders) (1.17.0)\n",
            "Downloading category_encoders-2.8.1-py3-none-any.whl (85 kB)\n",
            "\u001b[2K   \u001b[90m━━━━━━━━━━━━━━━━━━━━━━━━━━━━━━━━━━━━━━━━\u001b[0m \u001b[32m85.7/85.7 kB\u001b[0m \u001b[31m3.4 MB/s\u001b[0m eta \u001b[36m0:00:00\u001b[0m\n",
            "\u001b[?25hInstalling collected packages: category_encoders\n",
            "Successfully installed category_encoders-2.8.1\n"
          ]
        }
      ]
    },
    {
      "cell_type": "markdown",
      "source": [
        "Data Preprocessing:\n",
        "- Load data from CSV\n",
        "- Clean to fix errors and inconsistencies\n",
        "- Encode the statistical data type (numerical, categorical)\n",
        "- Impute any missing values"
      ],
      "metadata": {
        "id": "3cd_u_DXBHFW"
      }
    },
    {
      "cell_type": "markdown",
      "source": [
        "TO LOAD"
      ],
      "metadata": {
        "id": "fgctikzWEuqX"
      }
    },
    {
      "cell_type": "code",
      "source": [
        "def load_data():\n",
        "    # Read data\n",
        "    df_train = pd.read_csv(\"/content/drive/MyDrive/Kaggle_Datasets/Feature_Eng_House_prices/train.csv\", index_col=\"Id\")\n",
        "    df_test = pd.read_csv(\"/content/drive/MyDrive/Kaggle_Datasets/Feature_Eng_House_prices/test.csv\", index_col=\"Id\")\n",
        "\n",
        "    # Merge the splits so we can process them together\n",
        "    df = pd.concat([df_train, df_test])\n",
        "\n",
        "    # Preprocessing\n",
        "    df = clean(df)\n",
        "    df = encode(df)\n",
        "    df = impute(df)\n",
        "\n",
        "    # Reform splits\n",
        "    df_train = df.loc[df_train.index, :]\n",
        "    df_test = df.loc[df_test.index, :]\n",
        "    return df_train, df_test\n"
      ],
      "metadata": {
        "id": "vr3KW6-vAev0"
      },
      "execution_count": 3,
      "outputs": []
    },
    {
      "cell_type": "markdown",
      "source": [
        "TO CLEAN"
      ],
      "metadata": {
        "id": "C-TJYDKREok6"
      }
    },
    {
      "cell_type": "code",
      "source": [
        "df = pd.read_csv('/content/drive/MyDrive/Kaggle_Datasets/Feature_Eng_House_prices/train.csv', index_col='Id')\n",
        "df.Exterior2nd.unique()\n"
      ],
      "metadata": {
        "id": "nIa9QtwOBwOk",
        "colab": {
          "base_uri": "https://localhost:8080/"
        },
        "outputId": "4806245e-c83b-46b6-ee34-e76f020d4622"
      },
      "execution_count": 4,
      "outputs": [
        {
          "output_type": "execute_result",
          "data": {
            "text/plain": [
              "array(['VinylSd', 'MetalSd', 'Wd Shng', 'HdBoard', 'Plywood', 'Wd Sdng',\n",
              "       'CmentBd', 'BrkFace', 'Stucco', 'AsbShng', 'Brk Cmn', 'ImStucc',\n",
              "       'AsphShn', 'Stone', 'Other', 'CBlock'], dtype=object)"
            ]
          },
          "metadata": {},
          "execution_count": 4
        }
      ]
    },
    {
      "cell_type": "code",
      "source": [
        "def clean(df):\n",
        "    df[\"Exterior2nd\"] = df[\"Exterior2nd\"].replace({\"Brk Cmn\": \"BrkComm\"})\n",
        "    # Some values of GarageYrBlt are corrupt, so we'll replace them\n",
        "    # with the year the house was built\n",
        "    df[\"GarageYrBlt\"] = df[\"GarageYrBlt\"].where(df.GarageYrBlt <= 2010, df.YearBuilt)\n",
        "    # Names beginning with numbers are awkward to work with\n",
        "    df.rename(columns={\n",
        "        \"1stFlrSF\": \"FirstFlrSF\",\n",
        "        \"2ndFlrSF\": \"SecondFlrSF\",\n",
        "        \"3SsnPorch\": \"Threeseasonporch\",\n",
        "    }, inplace=True,\n",
        "    )\n",
        "    return df\n"
      ],
      "metadata": {
        "id": "SA0VTq65D7qD"
      },
      "execution_count": 5,
      "outputs": []
    },
    {
      "cell_type": "markdown",
      "source": [
        "TO ENCODE"
      ],
      "metadata": {
        "id": "FJmRRVxCEyR2"
      }
    },
    {
      "cell_type": "code",
      "source": [
        "\n",
        "# The nominative (unordered) categorical features\n",
        "features_nom = [\"MSSubClass\", \"MSZoning\", \"Street\", \"Alley\", \"LandContour\", \"LotConfig\", \"Neighborhood\", \"Condition1\", \"Condition2\",\n",
        "                \"BldgType\", \"HouseStyle\", \"RoofStyle\", \"RoofMatl\", \"Exterior1st\", \"Exterior2nd\", \"MasVnrType\", \"Foundation\", \"Heating\",\n",
        "                \"CentralAir\", \"GarageType\", \"MiscFeature\", \"SaleType\", \"SaleCondition\"]\n",
        "\n",
        "\n",
        "# The ordinal (ordered) categorical features\n",
        "\n",
        "# Pandas calls the categories \"levels\"\n",
        "five_levels = [\"Po\", \"Fa\", \"TA\", \"Gd\", \"Ex\"]\n",
        "ten_levels = list(range(10))\n",
        "\n",
        "ordered_levels = {\n",
        "    \"OverallQual\": ten_levels,\n",
        "    \"OverallCond\": ten_levels,\n",
        "    \"ExterQual\": five_levels,\n",
        "    \"ExterCond\": five_levels,\n",
        "    \"BsmtQual\": five_levels,\n",
        "    \"BsmtCond\": five_levels,\n",
        "    \"HeatingQC\": five_levels,\n",
        "    \"KitchenQual\": five_levels,\n",
        "    \"FireplaceQu\": five_levels,\n",
        "    \"GarageQual\": five_levels,\n",
        "    \"GarageCond\": five_levels,\n",
        "    \"PoolQC\": five_levels,\n",
        "    \"LotShape\": [\"Reg\", \"IR1\", \"IR2\", \"IR3\"],\n",
        "    \"LandSlope\": [\"Sev\", \"Mod\", \"Gtl\"],\n",
        "    \"BsmtExposure\": [\"No\", \"Mn\", \"Av\", \"Gd\"],\n",
        "    \"BsmtFinType1\": [\"Unf\", \"LwQ\", \"Rec\", \"BLQ\", \"ALQ\", \"GLQ\"],\n",
        "    \"BsmtFinType2\": [\"Unf\", \"LwQ\", \"Rec\", \"BLQ\", \"ALQ\", \"GLQ\"],\n",
        "    \"Functional\": [\"Sal\", \"Sev\", \"Maj1\", \"Maj2\", \"Mod\", \"Min2\", \"Min1\", \"Typ\"],\n",
        "    \"GarageFinish\": [\"Unf\", \"RFn\", \"Fin\"],\n",
        "    \"PavedDrive\": [\"N\", \"P\", \"Y\"],\n",
        "    \"Utilities\": [\"NoSeWa\", \"NoSewr\", \"AllPub\"],\n",
        "    \"CentralAir\": [\"N\", \"Y\"],\n",
        "    \"Electrical\": [\"Mix\", \"FuseP\", \"FuseF\", \"FuseA\", \"SBrkr\"],\n",
        "    \"Fence\": [\"MnWw\", \"GdWo\", \"MnPrv\", \"GdPrv\"],\n",
        "}\n",
        "\n",
        "# Add a None level for missing values\n",
        "ordered_levels = {key: [\"None\"] + value for key, value in\n",
        "                  ordered_levels.items()}\n",
        "\n",
        "\n",
        "def encode(df):\n",
        "    # Nominal categories\n",
        "    for name in features_nom:\n",
        "        df[name] = df[name].astype(\"category\")\n",
        "        # Add a None category for missing values\n",
        "        if \"None\" not in df[name].cat.categories:\n",
        "            df[name] = df[name].cat.add_categories(\"None\")\n",
        "    # Ordinal categories\n",
        "    for name, levels in ordered_levels.items():\n",
        "        df[name] = df[name].astype(CategoricalDtype(levels,\n",
        "                                                    ordered=True))\n",
        "    return df\n"
      ],
      "metadata": {
        "id": "SyXZqbuHE06_"
      },
      "execution_count": 6,
      "outputs": []
    },
    {
      "cell_type": "markdown",
      "source": [
        "Handling Missing values:\n",
        "- we'll impute 0 for missing numeric values and 'None' for missing categorical variables"
      ],
      "metadata": {
        "id": "DE0Out3GGPfU"
      }
    },
    {
      "cell_type": "code",
      "source": [
        "def impute(df):\n",
        "    for name in df.select_dtypes(\"number\"):\n",
        "        df[name] = df[name].fillna(0)\n",
        "    for name in df.select_dtypes(\"category\"):\n",
        "        df[name] = df[name].fillna(\"None\")\n",
        "    return df\n"
      ],
      "metadata": {
        "id": "jPxzLP0DGHwm"
      },
      "execution_count": 7,
      "outputs": []
    },
    {
      "cell_type": "code",
      "source": [
        "df_train, df_test = load_data()"
      ],
      "metadata": {
        "id": "-fQtdK9_G_8F"
      },
      "execution_count": 8,
      "outputs": []
    },
    {
      "cell_type": "code",
      "source": [
        "display(df_train)"
      ],
      "metadata": {
        "colab": {
          "base_uri": "https://localhost:8080/",
          "height": 455
        },
        "id": "hbRt67FoHCa_",
        "outputId": "b6bd3179-83ee-4c24-9cd1-c1ac986c69e9"
      },
      "execution_count": 9,
      "outputs": [
        {
          "output_type": "display_data",
          "data": {
            "text/plain": [
              "     MSSubClass MSZoning  LotFrontage  LotArea Street Alley LotShape  \\\n",
              "Id                                                                     \n",
              "1            60       RL         65.0     8450   Pave  None      Reg   \n",
              "2            20       RL         80.0     9600   Pave  None      Reg   \n",
              "3            60       RL         68.0    11250   Pave  None      IR1   \n",
              "4            70       RL         60.0     9550   Pave  None      IR1   \n",
              "5            60       RL         84.0    14260   Pave  None      IR1   \n",
              "...         ...      ...          ...      ...    ...   ...      ...   \n",
              "1456         60       RL         62.0     7917   Pave  None      Reg   \n",
              "1457         20       RL         85.0    13175   Pave  None      Reg   \n",
              "1458         70       RL         66.0     9042   Pave  None      Reg   \n",
              "1459         20       RL         68.0     9717   Pave  None      Reg   \n",
              "1460         20       RL         75.0     9937   Pave  None      Reg   \n",
              "\n",
              "     LandContour Utilities LotConfig  ... PoolArea PoolQC  Fence MiscFeature  \\\n",
              "Id                                    ...                                      \n",
              "1            Lvl    AllPub    Inside  ...        0   None   None        None   \n",
              "2            Lvl    AllPub       FR2  ...        0   None   None        None   \n",
              "3            Lvl    AllPub    Inside  ...        0   None   None        None   \n",
              "4            Lvl    AllPub    Corner  ...        0   None   None        None   \n",
              "5            Lvl    AllPub       FR2  ...        0   None   None        None   \n",
              "...          ...       ...       ...  ...      ...    ...    ...         ...   \n",
              "1456         Lvl    AllPub    Inside  ...        0   None   None        None   \n",
              "1457         Lvl    AllPub    Inside  ...        0   None  MnPrv        None   \n",
              "1458         Lvl    AllPub    Inside  ...        0   None  GdPrv        Shed   \n",
              "1459         Lvl    AllPub    Inside  ...        0   None   None        None   \n",
              "1460         Lvl    AllPub    Inside  ...        0   None   None        None   \n",
              "\n",
              "     MiscVal MoSold YrSold SaleType  SaleCondition  SalePrice  \n",
              "Id                                                             \n",
              "1          0      2   2008       WD         Normal   208500.0  \n",
              "2          0      5   2007       WD         Normal   181500.0  \n",
              "3          0      9   2008       WD         Normal   223500.0  \n",
              "4          0      2   2006       WD        Abnorml   140000.0  \n",
              "5          0     12   2008       WD         Normal   250000.0  \n",
              "...      ...    ...    ...      ...            ...        ...  \n",
              "1456       0      8   2007       WD         Normal   175000.0  \n",
              "1457       0      2   2010       WD         Normal   210000.0  \n",
              "1458    2500      5   2010       WD         Normal   266500.0  \n",
              "1459       0      4   2010       WD         Normal   142125.0  \n",
              "1460       0      6   2008       WD         Normal   147500.0  \n",
              "\n",
              "[1460 rows x 80 columns]"
            ],
            "text/html": [
              "\n",
              "  <div id=\"df-acc7b2f3-99c0-437d-a2e2-102e077cf3fb\" class=\"colab-df-container\">\n",
              "    <div>\n",
              "<style scoped>\n",
              "    .dataframe tbody tr th:only-of-type {\n",
              "        vertical-align: middle;\n",
              "    }\n",
              "\n",
              "    .dataframe tbody tr th {\n",
              "        vertical-align: top;\n",
              "    }\n",
              "\n",
              "    .dataframe thead th {\n",
              "        text-align: right;\n",
              "    }\n",
              "</style>\n",
              "<table border=\"1\" class=\"dataframe\">\n",
              "  <thead>\n",
              "    <tr style=\"text-align: right;\">\n",
              "      <th></th>\n",
              "      <th>MSSubClass</th>\n",
              "      <th>MSZoning</th>\n",
              "      <th>LotFrontage</th>\n",
              "      <th>LotArea</th>\n",
              "      <th>Street</th>\n",
              "      <th>Alley</th>\n",
              "      <th>LotShape</th>\n",
              "      <th>LandContour</th>\n",
              "      <th>Utilities</th>\n",
              "      <th>LotConfig</th>\n",
              "      <th>...</th>\n",
              "      <th>PoolArea</th>\n",
              "      <th>PoolQC</th>\n",
              "      <th>Fence</th>\n",
              "      <th>MiscFeature</th>\n",
              "      <th>MiscVal</th>\n",
              "      <th>MoSold</th>\n",
              "      <th>YrSold</th>\n",
              "      <th>SaleType</th>\n",
              "      <th>SaleCondition</th>\n",
              "      <th>SalePrice</th>\n",
              "    </tr>\n",
              "    <tr>\n",
              "      <th>Id</th>\n",
              "      <th></th>\n",
              "      <th></th>\n",
              "      <th></th>\n",
              "      <th></th>\n",
              "      <th></th>\n",
              "      <th></th>\n",
              "      <th></th>\n",
              "      <th></th>\n",
              "      <th></th>\n",
              "      <th></th>\n",
              "      <th></th>\n",
              "      <th></th>\n",
              "      <th></th>\n",
              "      <th></th>\n",
              "      <th></th>\n",
              "      <th></th>\n",
              "      <th></th>\n",
              "      <th></th>\n",
              "      <th></th>\n",
              "      <th></th>\n",
              "      <th></th>\n",
              "    </tr>\n",
              "  </thead>\n",
              "  <tbody>\n",
              "    <tr>\n",
              "      <th>1</th>\n",
              "      <td>60</td>\n",
              "      <td>RL</td>\n",
              "      <td>65.0</td>\n",
              "      <td>8450</td>\n",
              "      <td>Pave</td>\n",
              "      <td>None</td>\n",
              "      <td>Reg</td>\n",
              "      <td>Lvl</td>\n",
              "      <td>AllPub</td>\n",
              "      <td>Inside</td>\n",
              "      <td>...</td>\n",
              "      <td>0</td>\n",
              "      <td>None</td>\n",
              "      <td>None</td>\n",
              "      <td>None</td>\n",
              "      <td>0</td>\n",
              "      <td>2</td>\n",
              "      <td>2008</td>\n",
              "      <td>WD</td>\n",
              "      <td>Normal</td>\n",
              "      <td>208500.0</td>\n",
              "    </tr>\n",
              "    <tr>\n",
              "      <th>2</th>\n",
              "      <td>20</td>\n",
              "      <td>RL</td>\n",
              "      <td>80.0</td>\n",
              "      <td>9600</td>\n",
              "      <td>Pave</td>\n",
              "      <td>None</td>\n",
              "      <td>Reg</td>\n",
              "      <td>Lvl</td>\n",
              "      <td>AllPub</td>\n",
              "      <td>FR2</td>\n",
              "      <td>...</td>\n",
              "      <td>0</td>\n",
              "      <td>None</td>\n",
              "      <td>None</td>\n",
              "      <td>None</td>\n",
              "      <td>0</td>\n",
              "      <td>5</td>\n",
              "      <td>2007</td>\n",
              "      <td>WD</td>\n",
              "      <td>Normal</td>\n",
              "      <td>181500.0</td>\n",
              "    </tr>\n",
              "    <tr>\n",
              "      <th>3</th>\n",
              "      <td>60</td>\n",
              "      <td>RL</td>\n",
              "      <td>68.0</td>\n",
              "      <td>11250</td>\n",
              "      <td>Pave</td>\n",
              "      <td>None</td>\n",
              "      <td>IR1</td>\n",
              "      <td>Lvl</td>\n",
              "      <td>AllPub</td>\n",
              "      <td>Inside</td>\n",
              "      <td>...</td>\n",
              "      <td>0</td>\n",
              "      <td>None</td>\n",
              "      <td>None</td>\n",
              "      <td>None</td>\n",
              "      <td>0</td>\n",
              "      <td>9</td>\n",
              "      <td>2008</td>\n",
              "      <td>WD</td>\n",
              "      <td>Normal</td>\n",
              "      <td>223500.0</td>\n",
              "    </tr>\n",
              "    <tr>\n",
              "      <th>4</th>\n",
              "      <td>70</td>\n",
              "      <td>RL</td>\n",
              "      <td>60.0</td>\n",
              "      <td>9550</td>\n",
              "      <td>Pave</td>\n",
              "      <td>None</td>\n",
              "      <td>IR1</td>\n",
              "      <td>Lvl</td>\n",
              "      <td>AllPub</td>\n",
              "      <td>Corner</td>\n",
              "      <td>...</td>\n",
              "      <td>0</td>\n",
              "      <td>None</td>\n",
              "      <td>None</td>\n",
              "      <td>None</td>\n",
              "      <td>0</td>\n",
              "      <td>2</td>\n",
              "      <td>2006</td>\n",
              "      <td>WD</td>\n",
              "      <td>Abnorml</td>\n",
              "      <td>140000.0</td>\n",
              "    </tr>\n",
              "    <tr>\n",
              "      <th>5</th>\n",
              "      <td>60</td>\n",
              "      <td>RL</td>\n",
              "      <td>84.0</td>\n",
              "      <td>14260</td>\n",
              "      <td>Pave</td>\n",
              "      <td>None</td>\n",
              "      <td>IR1</td>\n",
              "      <td>Lvl</td>\n",
              "      <td>AllPub</td>\n",
              "      <td>FR2</td>\n",
              "      <td>...</td>\n",
              "      <td>0</td>\n",
              "      <td>None</td>\n",
              "      <td>None</td>\n",
              "      <td>None</td>\n",
              "      <td>0</td>\n",
              "      <td>12</td>\n",
              "      <td>2008</td>\n",
              "      <td>WD</td>\n",
              "      <td>Normal</td>\n",
              "      <td>250000.0</td>\n",
              "    </tr>\n",
              "    <tr>\n",
              "      <th>...</th>\n",
              "      <td>...</td>\n",
              "      <td>...</td>\n",
              "      <td>...</td>\n",
              "      <td>...</td>\n",
              "      <td>...</td>\n",
              "      <td>...</td>\n",
              "      <td>...</td>\n",
              "      <td>...</td>\n",
              "      <td>...</td>\n",
              "      <td>...</td>\n",
              "      <td>...</td>\n",
              "      <td>...</td>\n",
              "      <td>...</td>\n",
              "      <td>...</td>\n",
              "      <td>...</td>\n",
              "      <td>...</td>\n",
              "      <td>...</td>\n",
              "      <td>...</td>\n",
              "      <td>...</td>\n",
              "      <td>...</td>\n",
              "      <td>...</td>\n",
              "    </tr>\n",
              "    <tr>\n",
              "      <th>1456</th>\n",
              "      <td>60</td>\n",
              "      <td>RL</td>\n",
              "      <td>62.0</td>\n",
              "      <td>7917</td>\n",
              "      <td>Pave</td>\n",
              "      <td>None</td>\n",
              "      <td>Reg</td>\n",
              "      <td>Lvl</td>\n",
              "      <td>AllPub</td>\n",
              "      <td>Inside</td>\n",
              "      <td>...</td>\n",
              "      <td>0</td>\n",
              "      <td>None</td>\n",
              "      <td>None</td>\n",
              "      <td>None</td>\n",
              "      <td>0</td>\n",
              "      <td>8</td>\n",
              "      <td>2007</td>\n",
              "      <td>WD</td>\n",
              "      <td>Normal</td>\n",
              "      <td>175000.0</td>\n",
              "    </tr>\n",
              "    <tr>\n",
              "      <th>1457</th>\n",
              "      <td>20</td>\n",
              "      <td>RL</td>\n",
              "      <td>85.0</td>\n",
              "      <td>13175</td>\n",
              "      <td>Pave</td>\n",
              "      <td>None</td>\n",
              "      <td>Reg</td>\n",
              "      <td>Lvl</td>\n",
              "      <td>AllPub</td>\n",
              "      <td>Inside</td>\n",
              "      <td>...</td>\n",
              "      <td>0</td>\n",
              "      <td>None</td>\n",
              "      <td>MnPrv</td>\n",
              "      <td>None</td>\n",
              "      <td>0</td>\n",
              "      <td>2</td>\n",
              "      <td>2010</td>\n",
              "      <td>WD</td>\n",
              "      <td>Normal</td>\n",
              "      <td>210000.0</td>\n",
              "    </tr>\n",
              "    <tr>\n",
              "      <th>1458</th>\n",
              "      <td>70</td>\n",
              "      <td>RL</td>\n",
              "      <td>66.0</td>\n",
              "      <td>9042</td>\n",
              "      <td>Pave</td>\n",
              "      <td>None</td>\n",
              "      <td>Reg</td>\n",
              "      <td>Lvl</td>\n",
              "      <td>AllPub</td>\n",
              "      <td>Inside</td>\n",
              "      <td>...</td>\n",
              "      <td>0</td>\n",
              "      <td>None</td>\n",
              "      <td>GdPrv</td>\n",
              "      <td>Shed</td>\n",
              "      <td>2500</td>\n",
              "      <td>5</td>\n",
              "      <td>2010</td>\n",
              "      <td>WD</td>\n",
              "      <td>Normal</td>\n",
              "      <td>266500.0</td>\n",
              "    </tr>\n",
              "    <tr>\n",
              "      <th>1459</th>\n",
              "      <td>20</td>\n",
              "      <td>RL</td>\n",
              "      <td>68.0</td>\n",
              "      <td>9717</td>\n",
              "      <td>Pave</td>\n",
              "      <td>None</td>\n",
              "      <td>Reg</td>\n",
              "      <td>Lvl</td>\n",
              "      <td>AllPub</td>\n",
              "      <td>Inside</td>\n",
              "      <td>...</td>\n",
              "      <td>0</td>\n",
              "      <td>None</td>\n",
              "      <td>None</td>\n",
              "      <td>None</td>\n",
              "      <td>0</td>\n",
              "      <td>4</td>\n",
              "      <td>2010</td>\n",
              "      <td>WD</td>\n",
              "      <td>Normal</td>\n",
              "      <td>142125.0</td>\n",
              "    </tr>\n",
              "    <tr>\n",
              "      <th>1460</th>\n",
              "      <td>20</td>\n",
              "      <td>RL</td>\n",
              "      <td>75.0</td>\n",
              "      <td>9937</td>\n",
              "      <td>Pave</td>\n",
              "      <td>None</td>\n",
              "      <td>Reg</td>\n",
              "      <td>Lvl</td>\n",
              "      <td>AllPub</td>\n",
              "      <td>Inside</td>\n",
              "      <td>...</td>\n",
              "      <td>0</td>\n",
              "      <td>None</td>\n",
              "      <td>None</td>\n",
              "      <td>None</td>\n",
              "      <td>0</td>\n",
              "      <td>6</td>\n",
              "      <td>2008</td>\n",
              "      <td>WD</td>\n",
              "      <td>Normal</td>\n",
              "      <td>147500.0</td>\n",
              "    </tr>\n",
              "  </tbody>\n",
              "</table>\n",
              "<p>1460 rows × 80 columns</p>\n",
              "</div>\n",
              "    <div class=\"colab-df-buttons\">\n",
              "\n",
              "  <div class=\"colab-df-container\">\n",
              "    <button class=\"colab-df-convert\" onclick=\"convertToInteractive('df-acc7b2f3-99c0-437d-a2e2-102e077cf3fb')\"\n",
              "            title=\"Convert this dataframe to an interactive table.\"\n",
              "            style=\"display:none;\">\n",
              "\n",
              "  <svg xmlns=\"http://www.w3.org/2000/svg\" height=\"24px\" viewBox=\"0 -960 960 960\">\n",
              "    <path d=\"M120-120v-720h720v720H120Zm60-500h600v-160H180v160Zm220 220h160v-160H400v160Zm0 220h160v-160H400v160ZM180-400h160v-160H180v160Zm440 0h160v-160H620v160ZM180-180h160v-160H180v160Zm440 0h160v-160H620v160Z\"/>\n",
              "  </svg>\n",
              "    </button>\n",
              "\n",
              "  <style>\n",
              "    .colab-df-container {\n",
              "      display:flex;\n",
              "      gap: 12px;\n",
              "    }\n",
              "\n",
              "    .colab-df-convert {\n",
              "      background-color: #E8F0FE;\n",
              "      border: none;\n",
              "      border-radius: 50%;\n",
              "      cursor: pointer;\n",
              "      display: none;\n",
              "      fill: #1967D2;\n",
              "      height: 32px;\n",
              "      padding: 0 0 0 0;\n",
              "      width: 32px;\n",
              "    }\n",
              "\n",
              "    .colab-df-convert:hover {\n",
              "      background-color: #E2EBFA;\n",
              "      box-shadow: 0px 1px 2px rgba(60, 64, 67, 0.3), 0px 1px 3px 1px rgba(60, 64, 67, 0.15);\n",
              "      fill: #174EA6;\n",
              "    }\n",
              "\n",
              "    .colab-df-buttons div {\n",
              "      margin-bottom: 4px;\n",
              "    }\n",
              "\n",
              "    [theme=dark] .colab-df-convert {\n",
              "      background-color: #3B4455;\n",
              "      fill: #D2E3FC;\n",
              "    }\n",
              "\n",
              "    [theme=dark] .colab-df-convert:hover {\n",
              "      background-color: #434B5C;\n",
              "      box-shadow: 0px 1px 3px 1px rgba(0, 0, 0, 0.15);\n",
              "      filter: drop-shadow(0px 1px 2px rgba(0, 0, 0, 0.3));\n",
              "      fill: #FFFFFF;\n",
              "    }\n",
              "  </style>\n",
              "\n",
              "    <script>\n",
              "      const buttonEl =\n",
              "        document.querySelector('#df-acc7b2f3-99c0-437d-a2e2-102e077cf3fb button.colab-df-convert');\n",
              "      buttonEl.style.display =\n",
              "        google.colab.kernel.accessAllowed ? 'block' : 'none';\n",
              "\n",
              "      async function convertToInteractive(key) {\n",
              "        const element = document.querySelector('#df-acc7b2f3-99c0-437d-a2e2-102e077cf3fb');\n",
              "        const dataTable =\n",
              "          await google.colab.kernel.invokeFunction('convertToInteractive',\n",
              "                                                    [key], {});\n",
              "        if (!dataTable) return;\n",
              "\n",
              "        const docLinkHtml = 'Like what you see? Visit the ' +\n",
              "          '<a target=\"_blank\" href=https://colab.research.google.com/notebooks/data_table.ipynb>data table notebook</a>'\n",
              "          + ' to learn more about interactive tables.';\n",
              "        element.innerHTML = '';\n",
              "        dataTable['output_type'] = 'display_data';\n",
              "        await google.colab.output.renderOutput(dataTable, element);\n",
              "        const docLink = document.createElement('div');\n",
              "        docLink.innerHTML = docLinkHtml;\n",
              "        element.appendChild(docLink);\n",
              "      }\n",
              "    </script>\n",
              "  </div>\n",
              "\n",
              "\n",
              "    <div id=\"df-e5393ceb-a882-4e63-90e1-ad99bd68db06\">\n",
              "      <button class=\"colab-df-quickchart\" onclick=\"quickchart('df-e5393ceb-a882-4e63-90e1-ad99bd68db06')\"\n",
              "                title=\"Suggest charts\"\n",
              "                style=\"display:none;\">\n",
              "\n",
              "<svg xmlns=\"http://www.w3.org/2000/svg\" height=\"24px\"viewBox=\"0 0 24 24\"\n",
              "     width=\"24px\">\n",
              "    <g>\n",
              "        <path d=\"M19 3H5c-1.1 0-2 .9-2 2v14c0 1.1.9 2 2 2h14c1.1 0 2-.9 2-2V5c0-1.1-.9-2-2-2zM9 17H7v-7h2v7zm4 0h-2V7h2v10zm4 0h-2v-4h2v4z\"/>\n",
              "    </g>\n",
              "</svg>\n",
              "      </button>\n",
              "\n",
              "<style>\n",
              "  .colab-df-quickchart {\n",
              "      --bg-color: #E8F0FE;\n",
              "      --fill-color: #1967D2;\n",
              "      --hover-bg-color: #E2EBFA;\n",
              "      --hover-fill-color: #174EA6;\n",
              "      --disabled-fill-color: #AAA;\n",
              "      --disabled-bg-color: #DDD;\n",
              "  }\n",
              "\n",
              "  [theme=dark] .colab-df-quickchart {\n",
              "      --bg-color: #3B4455;\n",
              "      --fill-color: #D2E3FC;\n",
              "      --hover-bg-color: #434B5C;\n",
              "      --hover-fill-color: #FFFFFF;\n",
              "      --disabled-bg-color: #3B4455;\n",
              "      --disabled-fill-color: #666;\n",
              "  }\n",
              "\n",
              "  .colab-df-quickchart {\n",
              "    background-color: var(--bg-color);\n",
              "    border: none;\n",
              "    border-radius: 50%;\n",
              "    cursor: pointer;\n",
              "    display: none;\n",
              "    fill: var(--fill-color);\n",
              "    height: 32px;\n",
              "    padding: 0;\n",
              "    width: 32px;\n",
              "  }\n",
              "\n",
              "  .colab-df-quickchart:hover {\n",
              "    background-color: var(--hover-bg-color);\n",
              "    box-shadow: 0 1px 2px rgba(60, 64, 67, 0.3), 0 1px 3px 1px rgba(60, 64, 67, 0.15);\n",
              "    fill: var(--button-hover-fill-color);\n",
              "  }\n",
              "\n",
              "  .colab-df-quickchart-complete:disabled,\n",
              "  .colab-df-quickchart-complete:disabled:hover {\n",
              "    background-color: var(--disabled-bg-color);\n",
              "    fill: var(--disabled-fill-color);\n",
              "    box-shadow: none;\n",
              "  }\n",
              "\n",
              "  .colab-df-spinner {\n",
              "    border: 2px solid var(--fill-color);\n",
              "    border-color: transparent;\n",
              "    border-bottom-color: var(--fill-color);\n",
              "    animation:\n",
              "      spin 1s steps(1) infinite;\n",
              "  }\n",
              "\n",
              "  @keyframes spin {\n",
              "    0% {\n",
              "      border-color: transparent;\n",
              "      border-bottom-color: var(--fill-color);\n",
              "      border-left-color: var(--fill-color);\n",
              "    }\n",
              "    20% {\n",
              "      border-color: transparent;\n",
              "      border-left-color: var(--fill-color);\n",
              "      border-top-color: var(--fill-color);\n",
              "    }\n",
              "    30% {\n",
              "      border-color: transparent;\n",
              "      border-left-color: var(--fill-color);\n",
              "      border-top-color: var(--fill-color);\n",
              "      border-right-color: var(--fill-color);\n",
              "    }\n",
              "    40% {\n",
              "      border-color: transparent;\n",
              "      border-right-color: var(--fill-color);\n",
              "      border-top-color: var(--fill-color);\n",
              "    }\n",
              "    60% {\n",
              "      border-color: transparent;\n",
              "      border-right-color: var(--fill-color);\n",
              "    }\n",
              "    80% {\n",
              "      border-color: transparent;\n",
              "      border-right-color: var(--fill-color);\n",
              "      border-bottom-color: var(--fill-color);\n",
              "    }\n",
              "    90% {\n",
              "      border-color: transparent;\n",
              "      border-bottom-color: var(--fill-color);\n",
              "    }\n",
              "  }\n",
              "</style>\n",
              "\n",
              "      <script>\n",
              "        async function quickchart(key) {\n",
              "          const quickchartButtonEl =\n",
              "            document.querySelector('#' + key + ' button');\n",
              "          quickchartButtonEl.disabled = true;  // To prevent multiple clicks.\n",
              "          quickchartButtonEl.classList.add('colab-df-spinner');\n",
              "          try {\n",
              "            const charts = await google.colab.kernel.invokeFunction(\n",
              "                'suggestCharts', [key], {});\n",
              "          } catch (error) {\n",
              "            console.error('Error during call to suggestCharts:', error);\n",
              "          }\n",
              "          quickchartButtonEl.classList.remove('colab-df-spinner');\n",
              "          quickchartButtonEl.classList.add('colab-df-quickchart-complete');\n",
              "        }\n",
              "        (() => {\n",
              "          let quickchartButtonEl =\n",
              "            document.querySelector('#df-e5393ceb-a882-4e63-90e1-ad99bd68db06 button');\n",
              "          quickchartButtonEl.style.display =\n",
              "            google.colab.kernel.accessAllowed ? 'block' : 'none';\n",
              "        })();\n",
              "      </script>\n",
              "    </div>\n",
              "\n",
              "  <div id=\"id_32ca5682-b087-40cf-ad8a-426350fc7712\">\n",
              "    <style>\n",
              "      .colab-df-generate {\n",
              "        background-color: #E8F0FE;\n",
              "        border: none;\n",
              "        border-radius: 50%;\n",
              "        cursor: pointer;\n",
              "        display: none;\n",
              "        fill: #1967D2;\n",
              "        height: 32px;\n",
              "        padding: 0 0 0 0;\n",
              "        width: 32px;\n",
              "      }\n",
              "\n",
              "      .colab-df-generate:hover {\n",
              "        background-color: #E2EBFA;\n",
              "        box-shadow: 0px 1px 2px rgba(60, 64, 67, 0.3), 0px 1px 3px 1px rgba(60, 64, 67, 0.15);\n",
              "        fill: #174EA6;\n",
              "      }\n",
              "\n",
              "      [theme=dark] .colab-df-generate {\n",
              "        background-color: #3B4455;\n",
              "        fill: #D2E3FC;\n",
              "      }\n",
              "\n",
              "      [theme=dark] .colab-df-generate:hover {\n",
              "        background-color: #434B5C;\n",
              "        box-shadow: 0px 1px 3px 1px rgba(0, 0, 0, 0.15);\n",
              "        filter: drop-shadow(0px 1px 2px rgba(0, 0, 0, 0.3));\n",
              "        fill: #FFFFFF;\n",
              "      }\n",
              "    </style>\n",
              "    <button class=\"colab-df-generate\" onclick=\"generateWithVariable('df_train')\"\n",
              "            title=\"Generate code using this dataframe.\"\n",
              "            style=\"display:none;\">\n",
              "\n",
              "  <svg xmlns=\"http://www.w3.org/2000/svg\" height=\"24px\"viewBox=\"0 0 24 24\"\n",
              "       width=\"24px\">\n",
              "    <path d=\"M7,19H8.4L18.45,9,17,7.55,7,17.6ZM5,21V16.75L18.45,3.32a2,2,0,0,1,2.83,0l1.4,1.43a1.91,1.91,0,0,1,.58,1.4,1.91,1.91,0,0,1-.58,1.4L9.25,21ZM18.45,9,17,7.55Zm-12,3A5.31,5.31,0,0,0,4.9,8.1,5.31,5.31,0,0,0,1,6.5,5.31,5.31,0,0,0,4.9,4.9,5.31,5.31,0,0,0,6.5,1,5.31,5.31,0,0,0,8.1,4.9,5.31,5.31,0,0,0,12,6.5,5.46,5.46,0,0,0,6.5,12Z\"/>\n",
              "  </svg>\n",
              "    </button>\n",
              "    <script>\n",
              "      (() => {\n",
              "      const buttonEl =\n",
              "        document.querySelector('#id_32ca5682-b087-40cf-ad8a-426350fc7712 button.colab-df-generate');\n",
              "      buttonEl.style.display =\n",
              "        google.colab.kernel.accessAllowed ? 'block' : 'none';\n",
              "\n",
              "      buttonEl.onclick = () => {\n",
              "        google.colab.notebook.generateWithVariable('df_train');\n",
              "      }\n",
              "      })();\n",
              "    </script>\n",
              "  </div>\n",
              "\n",
              "    </div>\n",
              "  </div>\n"
            ],
            "application/vnd.google.colaboratory.intrinsic+json": {
              "type": "dataframe",
              "variable_name": "df_train"
            }
          },
          "metadata": {}
        }
      ]
    },
    {
      "cell_type": "markdown",
      "source": [
        "Establishing a Baseline\n",
        "- i.e. a baseline score to judge our feature engineering against.\n",
        "- a function to compute the cross-validated RMSLE score for a feature set"
      ],
      "metadata": {
        "id": "IYqpTglwIAWW"
      }
    },
    {
      "cell_type": "code",
      "source": [
        "\n",
        "def score_dataset(X, y, model=XGBRegressor()):\n",
        "    # Label encoding for categoricals\n",
        "    #\n",
        "    # Label encoding is good for XGBoost and RandomForest, but one-hot\n",
        "    # would be better for models like Lasso or Ridge. The `cat.codes`\n",
        "    # attribute holds the category levels.\n",
        "    for colname in X.select_dtypes([\"category\"]):\n",
        "        X[colname] = X[colname].cat.codes\n",
        "    # Metric for Housing competition is RMSLE (Root Mean Squared Log Error)\n",
        "    log_y = np.log(y)\n",
        "    score = cross_val_score(\n",
        "        model, X, log_y, cv=5, scoring=\"neg_mean_squared_error\",\n",
        "    )\n",
        "    score = -1 * score.mean()\n",
        "    score = np.sqrt(score)\n",
        "    return score\n"
      ],
      "metadata": {
        "id": "CHhxwiTJHamI"
      },
      "execution_count": 10,
      "outputs": []
    },
    {
      "cell_type": "code",
      "source": [
        "\"\"\"the above scoring function can be used whenever we want to try out a new feature set\n",
        "\n",
        "Running it on the processed data with no additional features to get our Baseline score\"\"\"\n",
        "\n",
        "X = df_train.copy()\n",
        "y = X.pop('SalePrice')\n",
        "\n",
        "baseline_score = score_dataset(X, y)\n",
        "print(f\"Baseline score: {baseline_score:.5f} RMSLE\")\n",
        "\n",
        "\n",
        "#comparing against the baseline helps inform on any possible inprovements from added features"
      ],
      "metadata": {
        "colab": {
          "base_uri": "https://localhost:8080/"
        },
        "id": "mOvW0vVCIfFW",
        "outputId": "bce66cbd-f0ad-4e5e-f080-49deb5f36979"
      },
      "execution_count": 11,
      "outputs": [
        {
          "output_type": "stream",
          "name": "stdout",
          "text": [
            "Baseline score: 0.14387 RMSLE\n"
          ]
        }
      ]
    },
    {
      "cell_type": "markdown",
      "source": [
        "Feature Utility Scores\n",
        "- using mutual information to compute a utility score for each feature thereby providing us with an indication of how much potential the feature has.\n",
        "- define 2 utility functions:\n",
        "-make_mi_scores and plot_mi_scores"
      ],
      "metadata": {
        "id": "X4sXR9-qJ8mJ"
      }
    },
    {
      "cell_type": "code",
      "source": [
        "def make_mi_scores(X, y):\n",
        "  X = X.copy()\n",
        "  for colname in X.select_dtypes(['object', 'category']):\n",
        "    X[colname], _=X[colname].factorize()\n",
        "  #All discrete features should now have integer dtypes\n",
        "  discrete_features = [pd.api.types.is_integer_dtype(t) for t in X.dtypes]\n",
        "  mi_scores = mutual_info_regression(X, y, discrete_features = discrete_features, random_state=0)\n",
        "  mi_scores = pd.Series(mi_scores, name='MI Scores', index=X.columns)\n",
        "  mi_scores = mi_scores.sort_values(ascending=False)\n",
        "  return mi_scores\n",
        "\n",
        "def plot_mi(scores):\n",
        "  scores = scores.sort_values(ascending=True)\n",
        "  width = np.arrange(len(scores))\n",
        "  ticks = list(scores.index)\n",
        "  plt.barh(width, scores)\n",
        "  plt.yticks(width, scores)\n",
        "  plt.title('Mutual Information Scores')"
      ],
      "metadata": {
        "id": "5WeLsU8vJU5A"
      },
      "execution_count": 12,
      "outputs": []
    },
    {
      "cell_type": "code",
      "source": [
        "#lets look at the feature scores again\n",
        "\n",
        "X = df_train.copy()\n",
        "y = X.pop('SalePrice')\n",
        "\n",
        "mi_scores = make_mi_scores(X, y)\n",
        "mi_scores"
      ],
      "metadata": {
        "id": "STjjQ284qYyv",
        "outputId": "ab262fef-af34-4f0f-8b05-3dc41258f44c",
        "colab": {
          "base_uri": "https://localhost:8080/",
          "height": 458
        }
      },
      "execution_count": 13,
      "outputs": [
        {
          "output_type": "execute_result",
          "data": {
            "text/plain": [
              "OverallQual     0.571457\n",
              "Neighborhood    0.526220\n",
              "GrLivArea       0.430395\n",
              "YearBuilt       0.407974\n",
              "LotArea         0.394468\n",
              "                  ...   \n",
              "PoolQC          0.000000\n",
              "MiscVal         0.000000\n",
              "MiscFeature     0.000000\n",
              "YrSold          0.000000\n",
              "MoSold          0.000000\n",
              "Name: MI Scores, Length: 79, dtype: float64"
            ],
            "text/html": [
              "<div>\n",
              "<style scoped>\n",
              "    .dataframe tbody tr th:only-of-type {\n",
              "        vertical-align: middle;\n",
              "    }\n",
              "\n",
              "    .dataframe tbody tr th {\n",
              "        vertical-align: top;\n",
              "    }\n",
              "\n",
              "    .dataframe thead th {\n",
              "        text-align: right;\n",
              "    }\n",
              "</style>\n",
              "<table border=\"1\" class=\"dataframe\">\n",
              "  <thead>\n",
              "    <tr style=\"text-align: right;\">\n",
              "      <th></th>\n",
              "      <th>MI Scores</th>\n",
              "    </tr>\n",
              "  </thead>\n",
              "  <tbody>\n",
              "    <tr>\n",
              "      <th>OverallQual</th>\n",
              "      <td>0.571457</td>\n",
              "    </tr>\n",
              "    <tr>\n",
              "      <th>Neighborhood</th>\n",
              "      <td>0.526220</td>\n",
              "    </tr>\n",
              "    <tr>\n",
              "      <th>GrLivArea</th>\n",
              "      <td>0.430395</td>\n",
              "    </tr>\n",
              "    <tr>\n",
              "      <th>YearBuilt</th>\n",
              "      <td>0.407974</td>\n",
              "    </tr>\n",
              "    <tr>\n",
              "      <th>LotArea</th>\n",
              "      <td>0.394468</td>\n",
              "    </tr>\n",
              "    <tr>\n",
              "      <th>...</th>\n",
              "      <td>...</td>\n",
              "    </tr>\n",
              "    <tr>\n",
              "      <th>PoolQC</th>\n",
              "      <td>0.000000</td>\n",
              "    </tr>\n",
              "    <tr>\n",
              "      <th>MiscVal</th>\n",
              "      <td>0.000000</td>\n",
              "    </tr>\n",
              "    <tr>\n",
              "      <th>MiscFeature</th>\n",
              "      <td>0.000000</td>\n",
              "    </tr>\n",
              "    <tr>\n",
              "      <th>YrSold</th>\n",
              "      <td>0.000000</td>\n",
              "    </tr>\n",
              "    <tr>\n",
              "      <th>MoSold</th>\n",
              "      <td>0.000000</td>\n",
              "    </tr>\n",
              "  </tbody>\n",
              "</table>\n",
              "<p>79 rows × 1 columns</p>\n",
              "</div><br><label><b>dtype:</b> float64</label>"
            ]
          },
          "metadata": {},
          "execution_count": 13
        }
      ]
    },
    {
      "cell_type": "code",
      "source": [
        "#this shows us that there are a number of features that are highly informative and some that dont seem to be informative at all (at least by themselves)\n",
        "#Top scoring features will usually pay-off the most during feature development so it's a good idea to focus on those\n",
        "#training uninformative features can lead to overfitting\n"
      ],
      "metadata": {
        "id": "xBayetaorJsO"
      },
      "execution_count": 14,
      "outputs": []
    },
    {
      "cell_type": "code",
      "source": [
        "#function to drop features with 0.0 scores\n",
        "\n",
        "def drop_uninformative(df, mi_scores):\n",
        "  return df.loc[:, mi_scores > 0.0]\n",
        "\n",
        "#to be used later"
      ],
      "metadata": {
        "id": "cCR-FDWcr23V"
      },
      "execution_count": 15,
      "outputs": []
    },
    {
      "cell_type": "markdown",
      "source": [
        "CREATE FEATURES\n"
      ],
      "metadata": {
        "id": "HulMSBLgtaVP"
      }
    },
    {
      "cell_type": "code",
      "source": [
        "\"\"\"make the workflow more modular by defining a function that takes a prepared dataframe\n",
        " and passes it through a pipeline of transformations to get the final feature set\"\"\"\n",
        "\n",
        "#first we define a transformation for label encoding for the categorical features\n",
        "#works for any kind of categorical feature when using a tree-ensemble like XGBoost\n",
        "#even for unordered categories\n",
        "#for linear regression models, use a one-hot encoding instead, esp for unordered categories\n",
        "def label_encode(df):\n",
        "  X=df.copy()\n",
        "  for colname in X.select_dtypes(['category']):\n",
        "    X[colname] = X[colname].cat.codes\n",
        "  return X\n",
        "\n",
        "\n",
        "\n",
        "#still on creating features\n",
        "\n",
        "def mathematical_transforms(df):\n",
        "    X = pd.DataFrame()  # dataframe to hold new features\n",
        "    X[\"LivLotRatio\"] = df.GrLivArea / df.LotArea\n",
        "    X[\"Spaciousness\"] = (df.FirstFlrSF + df.SecondFlrSF) / df.TotRmsAbvGrd\n",
        "    # This feature ended up not helping performance\n",
        "    # X[\"TotalOutsideSF\"] = \\\n",
        "    #     df.WoodDeckSF + df.OpenPorchSF + df.EnclosedPorch + \\\n",
        "    #     df.Threeseasonporch + df.ScreenPorch\n",
        "    return X\n",
        "\n",
        "\n",
        "def interactions(df):\n",
        "    X = pd.get_dummies(df.BldgType, prefix=\"Bldg\")\n",
        "    X = X.mul(df.GrLivArea, axis=0)\n",
        "    return X\n",
        "\n",
        "\n",
        "def counts(df):\n",
        "    X = pd.DataFrame()\n",
        "    X[\"PorchTypes\"] = df[[\n",
        "        \"WoodDeckSF\",\n",
        "        \"OpenPorchSF\",\n",
        "        \"EnclosedPorch\",\n",
        "        \"Threeseasonporch\",\n",
        "        \"ScreenPorch\",\n",
        "    ]].gt(0.0).sum(axis=1)\n",
        "    return X\n",
        "\n",
        "\n",
        "def break_down(df):\n",
        "    X = pd.DataFrame()\n",
        "    X[\"MSClass\"] = df.MSSubClass.str.split(\"_\", n=1, expand=True)[0]\n",
        "    return X\n",
        "\n",
        "\n",
        "def group_transforms(df):\n",
        "    X = pd.DataFrame()\n",
        "    X[\"MedNhbdArea\"] = df.groupby(\"Neighborhood\")[\"GrLivArea\"].transform(\"median\")\n",
        "    return X\n",
        "\n",
        "\n",
        "#other possible transforms:\n",
        "\"\"\"\n",
        "Interactions between the quality Qual and condition Cond features.\n",
        "OverallQual, for instance, was a high-scoring feature.\n",
        "You could try combining it with OverallCond by converting both to integer type and taking a product.\n",
        "\n",
        "Square roots of area features. This would convert units of square feet to just feet.\n",
        "\n",
        "Logarithms of numeric features. If a feature has a skewed distribution, applying a logarithm can help normalize it.\n",
        "\n",
        "Interactions between numeric and categorical features that describe the same thing.\n",
        "You could look at interactions between BsmtQual and TotalBsmtSF, for instance.\n",
        "\n",
        "Other group statistics in Neighboorhood. We did the median of GrLivArea.\n",
        "Looking at mean, std, or count could be interesting.\n",
        "You could also try combining the group statistics with other features.\n",
        "Maybe the difference of GrLivArea and the median is important?\"\"\"\n"
      ],
      "metadata": {
        "id": "Yo3RUE6ysJzR",
        "outputId": "7e2d8464-c5fe-43d4-c85a-a26f8e5930c2",
        "colab": {
          "base_uri": "https://localhost:8080/",
          "height": 87
        }
      },
      "execution_count": 16,
      "outputs": [
        {
          "output_type": "execute_result",
          "data": {
            "text/plain": [
              "'\\nInteractions between the quality Qual and condition Cond features.\\nOverallQual, for instance, was a high-scoring feature.\\nYou could try combining it with OverallCond by converting both to integer type and taking a product.\\n\\nSquare roots of area features. This would convert units of square feet to just feet.\\n\\nLogarithms of numeric features. If a feature has a skewed distribution, applying a logarithm can help normalize it.\\n\\nInteractions between numeric and categorical features that describe the same thing.\\nYou could look at interactions between BsmtQual and TotalBsmtSF, for instance.\\n\\nOther group statistics in Neighboorhood. We did the median of GrLivArea.\\nLooking at mean, std, or count could be interesting.\\nYou could also try combining the group statistics with other features.\\nMaybe the difference of GrLivArea and the median is important?'"
            ],
            "application/vnd.google.colaboratory.intrinsic+json": {
              "type": "string"
            }
          },
          "metadata": {},
          "execution_count": 16
        }
      ]
    },
    {
      "cell_type": "markdown",
      "source": [
        "**Using Unsupervised models to create features**"
      ],
      "metadata": {
        "id": "vhbNh0glJt5K"
      }
    },
    {
      "cell_type": "markdown",
      "source": [
        "K-Means Clustering\n"
      ],
      "metadata": {
        "id": "_G0eVCoKJ8zI"
      }
    },
    {
      "cell_type": "markdown",
      "source": [
        "*we could use the clusters labels as features or the distance between observations to each cluster.*\n"
      ],
      "metadata": {
        "id": "-Au3TBlbxcwn"
      }
    },
    {
      "cell_type": "code",
      "source": [
        "cluster_features = [\"LotArea\", \"TotalBsmtSF\", \"FirstFlrSF\", \"sECONDfLRsf\", \"GrLivArea\"]\n",
        "\n",
        "def cluster_labels(df, features, n_clusters=20):\n",
        "  X = df.copy()\n",
        "  X_Scaled = X.loc[:,features]\n",
        "  X_Scaled = (X_Scaled - X_Scaled.mean(axis=0)) / X_Scaled.std(axis=0)\n",
        "  kmeans = KMeans(n_clusters=n_clusters, n_init=50, random_state=0)\n",
        "  X_new = pd.DataFrame()\n",
        "  X_new['cluster'] = kmeans.fit_transform(X_Scaled)\n",
        "  return X_new\n",
        "\n",
        "def cluster_distance(df, features, n_clusters=20):\n",
        "  X = df.copy()\n",
        "  X_scaled = X.loc[:, features]\n",
        "  X_scaled = (X_scaled - X_scaled.mean(axis=0)) / X_scaled.std(axis=0)\n",
        "  kmeans = KMeans(n_clusters=20, n_init=50, random_state=0)\n",
        "  X_cd = kmeans.fit_transform(X_scaled)\n",
        "  # Label features and join to dataset\n",
        "  X_cd = pd.DataFrame(\n",
        "      X_cd, columns=[f\"Centroid_{i}\" for i in range(X_cd.shape[1])]\n",
        "  )\n",
        "  return X_cd"
      ],
      "metadata": {
        "id": "5t1ZoYRRKBmV"
      },
      "execution_count": 17,
      "outputs": []
    },
    {
      "cell_type": "markdown",
      "source": [
        "Principal Component Analysis"
      ],
      "metadata": {
        "id": "l31Jt5QU2qco"
      }
    },
    {
      "cell_type": "markdown",
      "source": [
        "*PCA could decompose variational structure in data and provide us with loadings that describe each component of variation as well as the components that were the transformed datapoints. These can suggest features to create and the components we cau use as features directly*"
      ],
      "metadata": {
        "id": "YMJMcH5W26iA"
      }
    },
    {
      "cell_type": "code",
      "source": [
        "#the utility functions\n",
        "\n",
        "\n",
        "def apply_pca(X, standardize=True):\n",
        "    # Standardize\n",
        "    if standardize:\n",
        "        X = (X - X.mean(axis=0)) / X.std(axis=0)\n",
        "    # Create principal components\n",
        "    pca = PCA()\n",
        "    X_pca = pca.fit_transform(X)\n",
        "    # Convert to dataframe\n",
        "    component_names = [f\"PC{i+1}\" for i in range(X_pca.shape[1])]\n",
        "    X_pca = pd.DataFrame(X_pca, columns=component_names)\n",
        "    # Create loadings\n",
        "    loadings = pd.DataFrame(\n",
        "        pca.components_.T,  # transpose the matrix of loadings\n",
        "        columns=component_names,  # so the columns are the principal components\n",
        "        index=X.columns,  # and the rows are the original features\n",
        "    )\n",
        "    return pca, X_pca, loadings\n",
        "\n",
        "\n",
        "def plot_variance(pca, width=8, dpi=100):\n",
        "    # Create figure\n",
        "    fig, axs = plt.subplots(1, 2)\n",
        "    n = pca.n_components_\n",
        "    grid = np.arange(1, n + 1)\n",
        "    # Explained variance\n",
        "    evr = pca.explained_variance_ratio_\n",
        "    axs[0].bar(grid, evr)\n",
        "    axs[0].set(\n",
        "        xlabel=\"Component\", title=\"% Explained Variance\", ylim=(0.0, 1.0)\n",
        "    )\n",
        "    # Cumulative Variance\n",
        "    cv = np.cumsum(evr)\n",
        "    axs[1].plot(np.r_[0, grid], np.r_[0, cv], \"o-\")\n",
        "    axs[1].set(\n",
        "        xlabel=\"Component\", title=\"% Cumulative Variance\", ylim=(0.0, 1.0)\n",
        "    )\n",
        "    # Set up figure\n",
        "    fig.set(figwidth=8, dpi=100)\n",
        "    return axs\n"
      ],
      "metadata": {
        "id": "-YblErzP2z9L"
      },
      "execution_count": 18,
      "outputs": []
    },
    {
      "cell_type": "code",
      "source": [
        "#the transforms that produce the features (change these if answers are different)\n",
        "\n",
        "\n",
        "def pca_inspired(df):\n",
        "    X = pd.DataFrame()\n",
        "    X[\"Feature1\"] = df.GrLivArea + df.TotalBsmtSF\n",
        "    X[\"Feature2\"] = df.YearRemodAdd * df.TotalBsmtSF\n",
        "    return X\n",
        "\n",
        "\n",
        "def pca_components(df, features):\n",
        "    X = df.loc[:, features]\n",
        "    _, X_pca, _ = apply_pca(X)\n",
        "    return X_pca\n",
        "\n",
        "\n",
        "pca_features = [\n",
        "    \"GarageArea\",\n",
        "    \"YearRemodAdd\",\n",
        "    \"TotalBsmtSF\",\n",
        "    \"GrLivArea\",\n",
        "]"
      ],
      "metadata": {
        "id": "e4XdNgNa3vUm"
      },
      "execution_count": 19,
      "outputs": []
    },
    {
      "cell_type": "code",
      "source": [
        "#might want to look at a correlation matrix for further analysis\n",
        "\n",
        "def corrplot(df, method=\"pearson\", annot=True, **kwargs):\n",
        "    sns.clustermap(\n",
        "        df.corr(method, numeric_only=True),\n",
        "        vmin=-1.0,\n",
        "        vmax=1.0,\n",
        "        cmap=\"icefire\",\n",
        "        method=\"complete\",\n",
        "        annot=annot,\n",
        "        **kwargs,\n",
        "    )\n",
        "\n",
        "#for example\n",
        "corrplot(df_train, annot=None)\n",
        "\n",
        "#groups of highly correlated features often yield interesting loadings"
      ],
      "metadata": {
        "id": "ZXj_3xj037y5",
        "outputId": "389804f7-2e7d-4b28-c899-8dd11b80ac85",
        "colab": {
          "base_uri": "https://localhost:8080/",
          "height": 1000
        }
      },
      "execution_count": 20,
      "outputs": [
        {
          "output_type": "display_data",
          "data": {
            "text/plain": [
              "<Figure size 1000x1000 with 4 Axes>"
            ],
            "image/png": "[encoded data removed]"
          },
          "metadata": {}
        }
      ]
    },
    {
      "cell_type": "markdown",
      "source": [
        "Applying PCA for indicating outliers"
      ],
      "metadata": {
        "id": "8lOktxkOLHGo"
      }
    },
    {
      "cell_type": "code",
      "source": [
        "#houses that have values not well represented in the rest of the data.\n",
        "\n",
        "\n",
        "#a group of houses in the 'Edwards' neighborhood have a SaleCondition of 'partial'\n",
        "\n",
        "def indicate_outliers(df):\n",
        "  X_new = pd.DataFrame()\n",
        "  X_new['Outlier'] = (df.Neighborhood == \"Edwards\") and (df.SaleCondition == \"Partial\")\n",
        "  return X_new\n",
        "\n",
        "\n",
        "#we can also consider applying some sort of robust scaler from\n",
        "#scikit-learn (sklearn.preprocessing) module to the outlying values esp GrLivArea"
      ],
      "metadata": {
        "id": "cCa5VHPR5UIw"
      },
      "execution_count": 21,
      "outputs": []
    },
    {
      "cell_type": "markdown",
      "source": [
        "Target Encoding"
      ],
      "metadata": {
        "id": "9Gxfmk2HM_uF"
      }
    },
    {
      "cell_type": "code",
      "source": [
        "#steps:\n",
        "#we'll split the data into folds each having 2 splits,\n",
        "#train the encoder on one split but transform the values of the other\n",
        "#and repeat for all the splits\n",
        "  #this way, training and transformation always takes place on independent sets of data\n",
        "\n",
        "\n",
        "class CrossFoldEncoder:\n",
        "    def __init__(self, encoder, **kwargs):\n",
        "        self.encoder_ = encoder\n",
        "        self.kwargs_ = kwargs  # keyword arguments for the encoder\n",
        "        self.cv_ = KFold(n_splits=5)\n",
        "\n",
        "    # Fit an encoder on one split and transform the feature on the\n",
        "    # other. Iterating over the splits in all folds gives a complete\n",
        "    # transformation. We also now have one trained encoder on each\n",
        "    # fold.\n",
        "    def fit_transform(self, X, y, cols):\n",
        "        self.fitted_encoders_ = []\n",
        "        self.cols_ = cols\n",
        "        X_encoded = []\n",
        "        for idx_encode, idx_train in self.cv_.split(X):\n",
        "            fitted_encoder = self.encoder_(cols=cols, **self.kwargs_)\n",
        "            fitted_encoder.fit(\n",
        "                X.iloc[idx_encode, :], y.iloc[idx_encode],\n",
        "            )\n",
        "            X_encoded.append(fitted_encoder.transform(X.iloc[idx_train, :])[cols])\n",
        "            self.fitted_encoders_.append(fitted_encoder)\n",
        "        X_encoded = pd.concat(X_encoded)\n",
        "        X_encoded.columns = [name + \"_encoded\" for name in X_encoded.columns]\n",
        "        return X_encoded\n",
        "\n",
        "    # To transform the test data, average the encodings learned from\n",
        "    # each fold.\n",
        "    def transform(self, X):\n",
        "        from functools import reduce\n",
        "\n",
        "        X_encoded_list = []\n",
        "        for fitted_encoder in self.fitted_encoders_:\n",
        "            X_encoded = fitted_encoder.transform(X)\n",
        "            X_encoded_list.append(X_encoded[self.cols_])\n",
        "        X_encoded = reduce(\n",
        "            lambda x, y: x.add(y, fill_value=0), X_encoded_list\n",
        "        ) / len(X_encoded_list)\n",
        "        X_encoded.columns = [name + \"_encoded\" for name in X_encoded.columns]\n",
        "        return X_encoded"
      ],
      "metadata": {
        "id": "I2ZLvreEM9J-"
      },
      "execution_count": 22,
      "outputs": []
    },
    {
      "cell_type": "markdown",
      "source": [
        "Create Final Feature Set"
      ],
      "metadata": {
        "id": "9i4xGL36OrWJ"
      }
    },
    {
      "cell_type": "code",
      "source": [
        "\"\"\"combining everything together and putting the transformations into\n",
        "separate functions to make it easier to experiment with various combinations\"\"\"\n",
        "\n",
        "from category_encoders import MEstimateEncoder\n",
        "\n",
        "\n",
        "def create_features(df, df_test=None):\n",
        "    X = df.copy()\n",
        "    y = X.pop(\"SalePrice\")\n",
        "    mi_scores = make_mi_scores(X, y)\n",
        "\n",
        "    # Combine splits if test data is given\n",
        "    #\n",
        "    # If we're creating features for test set predictions, we should\n",
        "    # use all the data we have available. After creating our features,\n",
        "    # we'll recreate the splits.\n",
        "    if df_test is not None:\n",
        "        X_test = df_test.copy()\n",
        "        X_test.pop(\"SalePrice\")\n",
        "        X = pd.concat([X, X_test])\n",
        "\n",
        "    # Mutual Information\n",
        "    X = drop_uninformative(X, mi_scores)\n",
        "\n",
        "    # Transformations\n",
        "    X = X.join(mathematical_transforms(X))\n",
        "    X = X.join(interactions(X))\n",
        "    X = X.join(counts(X))\n",
        "    # X = X.join(break_down(X))\n",
        "    X = X.join(group_transforms(X))\n",
        "\n",
        "    # Clustering\n",
        "    # X = X.join(cluster_labels(X, cluster_features, n_clusters=20))\n",
        "    # X = X.join(cluster_distance(X, cluster_features, n_clusters=20))\n",
        "\n",
        "    # PCA\n",
        "    X = X.join(pca_inspired(X))\n",
        "    # X = X.join(pca_components(X, pca_features))\n",
        "    # X = X.join(indicate_outliers(X))\n",
        "\n",
        "    X = label_encode(X)\n",
        "\n",
        "    # Reform splits\n",
        "    if df_test is not None:\n",
        "        X_test = X.loc[df_test.index, :]\n",
        "        X.drop(df_test.index, inplace=True)\n",
        "\n",
        "    # Target Encoder\n",
        "    encoder = CrossFoldEncoder(MEstimateEncoder, m=1)\n",
        "    X = X.join(encoder.fit_transform(X, y, cols=[\"MSSubClass\"]))\n",
        "    if df_test is not None:\n",
        "        X_test = X_test.join(encoder.transform(X_test))\n",
        "\n",
        "    if df_test is not None:\n",
        "        return X, X_test\n",
        "    else:\n",
        "        return X\n",
        "\n",
        "\n",
        "df_train, df_test = load_data()\n",
        "X_train = create_features(df_train)\n",
        "y_train = df_train.loc[:, \"SalePrice\"]\n",
        "\n",
        "score_dataset(X_train, y_train)"
      ],
      "metadata": {
        "id": "9nqNjrRVOuda",
        "outputId": "d7a3a770-f3d7-49c3-9069-05a121055b38",
        "colab": {
          "base_uri": "https://localhost:8080/"
        }
      },
      "execution_count": 33,
      "outputs": [
        {
          "output_type": "stream",
          "name": "stderr",
          "text": [
            "/tmp/ipython-input-1423397393.py:55: FutureWarning: The default of observed=False is deprecated and will be changed to True in a future version of pandas. Pass observed=False to retain current behavior or observed=True to adopt the future default and silence this warning.\n",
            "  X[\"MedNhbdArea\"] = df.groupby(\"Neighborhood\")[\"GrLivArea\"].transform(\"median\")\n"
          ]
        },
        {
          "output_type": "execute_result",
          "data": {
            "text/plain": [
              "np.float64(0.13694237566469133)"
            ]
          },
          "metadata": {},
          "execution_count": 33
        }
      ]
    },
    {
      "cell_type": "code",
      "source": [
        "#Hyperparameter Tunning with XGBoost\n",
        "\n",
        "X_train = create_features(df_train)\n",
        "y_train = df_train.loc[:, \"SalePrice\"]\n",
        "\n",
        "xgb_params = dict(\n",
        "    max_depth=6,           # maximum depth of each tree - try 2 to 10\n",
        "    learning_rate=0.01,    # effect of each tree - try 0.0001 to 0.1\n",
        "    n_estimators=1000,     # number of trees (that is, boosting rounds) - try 1000 to 8000\n",
        "    min_child_weight=1,    # minimum number of houses in a leaf - try 1 to 10\n",
        "    colsample_bytree=0.7,  # fraction of features (columns) per tree - try 0.2 to 1.0\n",
        "    subsample=0.7,         # fraction of instances (rows) per tree - try 0.2 to 1.0\n",
        "    reg_alpha=0.5,         # L1 regularization (like LASSO) - try 0.0 to 10.0\n",
        "    reg_lambda=1.0,        # L2 regularization (like Ridge) - try 0.0 to 10.0\n",
        "    num_parallel_tree=1,   # set > 1 for boosted random forests\n",
        ")\n",
        "\n",
        "xgb = XGBRegressor(**xgb_params)\n",
        "score_dataset(X_train, y_train, xgb)"
      ],
      "metadata": {
        "id": "WcO06iYePVNB",
        "outputId": "97ed4e44-1148-4ffd-a1dc-38170aea6134",
        "colab": {
          "base_uri": "https://localhost:8080/"
        }
      },
      "execution_count": 28,
      "outputs": [
        {
          "output_type": "stream",
          "name": "stderr",
          "text": [
            "/tmp/ipython-input-1423397393.py:55: FutureWarning: The default of observed=False is deprecated and will be changed to True in a future version of pandas. Pass observed=False to retain current behavior or observed=True to adopt the future default and silence this warning.\n",
            "  X[\"MedNhbdArea\"] = df.groupby(\"Neighborhood\")[\"GrLivArea\"].transform(\"median\")\n"
          ]
        },
        {
          "output_type": "execute_result",
          "data": {
            "text/plain": [
              "np.float64(0.12491217413174481)"
            ]
          },
          "metadata": {},
          "execution_count": 28
        }
      ]
    },
    {
      "cell_type": "markdown",
      "source": [
        "Train Model"
      ],
      "metadata": {
        "id": "XeVYHKC7RrZD"
      }
    },
    {
      "cell_type": "code",
      "source": [
        "\"\"\"create my feature set from original data, train XGBoost on training data\n",
        "and use trained model to make predictions from test set\"\"\"\n",
        "\n",
        "\n",
        "X_train, X_test = create_features(df_train, df_test)\n",
        "y_train = df_train.loc[:, \"SalePrice\"]\n",
        "\n",
        "xgb = XGBRegressor(**xgb_params)\n",
        "# XGB minimizes MSE, but competition loss is RMSLE\n",
        "# So, we need to log-transform y to train and exp-transform the predictions\n",
        "xgb.fit(X_train, np.log(y))\n",
        "predictions = np.exp(xgb.predict(X_test))\n"
      ],
      "metadata": {
        "id": "9wnL0J3gRegq",
        "colab": {
          "base_uri": "https://localhost:8080/"
        },
        "outputId": "bf65b38a-b9e6-4106-cae0-c8ecf3ed7e8b"
      },
      "execution_count": 29,
      "outputs": [
        {
          "output_type": "stream",
          "name": "stderr",
          "text": [
            "/tmp/ipython-input-1423397393.py:55: FutureWarning: The default of observed=False is deprecated and will be changed to True in a future version of pandas. Pass observed=False to retain current behavior or observed=True to adopt the future default and silence this warning.\n",
            "  X[\"MedNhbdArea\"] = df.groupby(\"Neighborhood\")[\"GrLivArea\"].transform(\"median\")\n"
          ]
        }
      ]
    }
  ]
}